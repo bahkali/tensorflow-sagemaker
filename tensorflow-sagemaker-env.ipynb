{
 "cells": [
  {
   "cell_type": "code",
   "execution_count": 8,
   "id": "acquired-wisconsin",
   "metadata": {},
   "outputs": [
    {
     "data": {
      "text/plain": [
       "['arn:aws:iam::426192304298:role/service-role/AmazonSageMaker-ExecutionRole-20210215T082646',\n",
       " 'us-west-2']"
      ]
     },
     "execution_count": 8,
     "metadata": {},
     "output_type": "execute_result"
    }
   ],
   "source": [
    "import sagemaker\n",
    "from sagemaker.tensorflow import TensorFlow\n",
    "role = sagemaker.get_execution_role()\n",
    "region = sagemaker.Session().boto_session.region_name\n",
    "[role, region]"
   ]
  },
  {
   "cell_type": "code",
   "execution_count": 3,
   "id": "related-roulette",
   "metadata": {},
   "outputs": [
    {
     "data": {
      "text/plain": [
       "'210224-143313'"
      ]
     },
     "execution_count": 3,
     "metadata": {},
     "output_type": "execute_result"
    }
   ],
   "source": [
    "import datetime\n",
    "date = datetime.datetime.now().strftime(\"%y%m%d-%H%M%S\")\n",
    "date"
   ]
  },
  {
   "cell_type": "code",
   "execution_count": 4,
   "id": "amino-steel",
   "metadata": {},
   "outputs": [],
   "source": [
    "#Hyperparmeters\n",
    "EXPRERIMENT_NAME = 'Nono-FashionMnist'\n",
    "ENTRY_POINT = 'fashion_mnist.py'\n",
    "EPOCHS = 1\n",
    "INSTANCE_TYPE = 'ml.p2.xlarge'"
   ]
  },
  {
   "cell_type": "code",
   "execution_count": 5,
   "id": "pleasant-freight",
   "metadata": {},
   "outputs": [
    {
     "data": {
      "text/plain": [
       "'763104351884.dkr.ecr.us-west-2.amazonaws.com/tensorflow-training:2.3.1-gpu-py37-ubuntu18.04'"
      ]
     },
     "execution_count": 5,
     "metadata": {},
     "output_type": "execute_result"
    }
   ],
   "source": [
    "# Docker image\n",
    "docker_image_params = {\n",
    "    'region': region,\n",
    "    'framework': 'tensorflow',\n",
    "    'job_type': 'training',\n",
    "    'version': '2.3.1',\n",
    "    'device_type': 'gpu',\n",
    "    'python': 'py37',\n",
    "    'cuda': '-cu102', \n",
    "}\n",
    "#763104351884.dkr.ecr.us-east-1.amazonaws.com/tensorflow-training:2.3.1-cpu-py37-ubuntu18.04 \n",
    "docker_image_uri = '763104351884.dkr.ecr.{}.amazonaws.com/{}-{}:{}-{}-{}-ubuntu18.04'.format(*docker_image_params.values())\n",
    "docker_image_uri"
   ]
  },
  {
   "cell_type": "code",
   "execution_count": null,
   "id": "talented-transmission",
   "metadata": {},
   "outputs": [],
   "source": [
    "# Building tensorflow estimator\n",
    "estimator = TensorFlow(entry_point=ENTRY_POINT,\n",
    "                       role=role,\n",
    "                       instance_count=1,\n",
    "                       instance_type=INSTANCE_TYPE,\n",
    "                       image_uri = docker_image_uri,\n",
    "                       script_mode=False,\n",
    "                       hyperparameters={\n",
    "                           'epochs'\n",
    "                       })"
   ]
  }
 ],
 "metadata": {
  "kernelspec": {
   "display_name": "conda_amazonei_tensorflow2_p36",
   "language": "python",
   "name": "conda_amazonei_tensorflow2_p36"
  },
  "language_info": {
   "codemirror_mode": {
    "name": "ipython",
    "version": 3
   },
   "file_extension": ".py",
   "mimetype": "text/x-python",
   "name": "python",
   "nbconvert_exporter": "python",
   "pygments_lexer": "ipython3",
   "version": "3.6.10"
  },
  "toc-autonumbering": true,
  "toc-showcode": false
 },
 "nbformat": 4,
 "nbformat_minor": 5
}
