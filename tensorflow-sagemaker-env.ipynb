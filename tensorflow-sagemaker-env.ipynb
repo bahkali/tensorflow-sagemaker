{
 "cells": [
  {
   "cell_type": "code",
   "execution_count": 1,
   "id": "reliable-softball",
   "metadata": {},
   "outputs": [
    {
     "name": "stderr",
     "output_type": "stream",
     "text": [
      "No handlers could be found for logger \"sagemaker\"\n"
     ]
    },
    {
     "data": {
      "text/plain": [
       "[u'arn:aws:iam::426192304298:role/service-role/AmazonSageMaker-ExecutionRole-20210215T082646',\n",
       " 'us-west-2']"
      ]
     },
     "execution_count": 1,
     "metadata": {},
     "output_type": "execute_result"
    }
   ],
   "source": [
    "import sagemaker\n",
    "role = sagemaker.get_execution_role()\n",
    "region = sagemaker.Session().boto_session.region_name\n",
    "[role, region]"
   ]
  },
  {
   "cell_type": "code",
   "execution_count": 2,
   "id": "micro-melbourne",
   "metadata": {},
   "outputs": [
    {
     "data": {
      "text/plain": [
       "'210224-050526'"
      ]
     },
     "execution_count": 2,
     "metadata": {},
     "output_type": "execute_result"
    }
   ],
   "source": [
    "import datetime\n",
    "date = datetime.datetime.now().strftime(\"%y%m%d-%H%M%S\")\n",
    "date"
   ]
  },
  {
   "cell_type": "code",
   "execution_count": 3,
   "id": "electrical-munich",
   "metadata": {},
   "outputs": [],
   "source": [
    "#Hyperparmeters\n",
    "EXPRERIMENT_NAME = 'Nono-FashionMnist'\n",
    "ENTRY_POINT = 'fashion_mnist.py'\n",
    "EPOCHS = 1\n",
    "INSTANCE_TYPE = 'ml.p2.xlarge'"
   ]
  },
  {
   "cell_type": "code",
   "execution_count": null,
   "id": "underlying-honey",
   "metadata": {},
   "outputs": [],
   "source": []
  }
 ],
 "metadata": {
  "kernelspec": {
   "display_name": "conda_amazonei_tensorflow_p27",
   "language": "python",
   "name": "conda_amazonei_tensorflow_p27"
  },
  "language_info": {
   "codemirror_mode": {
    "name": "ipython",
    "version": 2
   },
   "file_extension": ".py",
   "mimetype": "text/x-python",
   "name": "python",
   "nbconvert_exporter": "python",
   "pygments_lexer": "ipython2",
   "version": "2.7.16"
  }
 },
 "nbformat": 4,
 "nbformat_minor": 5
}
